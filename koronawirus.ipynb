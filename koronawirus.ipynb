{
 "cells": [
  {
   "cell_type": "markdown",
   "metadata": {},
   "source": [
    "### 1. Import"
   ]
  },
  {
   "cell_type": "code",
   "execution_count": 59,
   "metadata": {},
   "outputs": [],
   "source": [
    "import requests\n",
    "import json\n",
    "import pandas as pd\n",
    "from matplotlib import pyplot as plt"
   ]
  },
  {
   "cell_type": "markdown",
   "metadata": {},
   "source": [
    "### 2. API client and format JSON"
   ]
  },
  {
   "cell_type": "code",
   "execution_count": 82,
   "metadata": {},
   "outputs": [
    {
     "name": "stdout",
     "output_type": "stream",
     "text": [
      "['3/04/20', '3/05/20', '3/06/20', '3/07/20', '3/08/20', '3/09/20', '3/10/20', '3/11/20', '3/12/20', '3/13/20', '3/14/20', '3/15/20', '3/16/20', '3/17/20', '3/18/20', '3/19/20', '3/20/20', '3/21/20', '3/22/20', '3/23/20', '3/24/20', '3/25/20', '3/26/20', '3/27/20', '3/28/20', '3/29/20', '3/30/20', '3/31/20', '4/01/20', '4/02/20', '4/03/20', '4/04/20', '4/05/20', '4/06/20', '4/07/20', '4/08/20', '4/09/20', '4/10/20', '4/11/20', '4/12/20', '4/13/20', '4/14/20', '4/15/20', '4/16/20', '4/17/20', '4/18/20', '4/19/20', '4/20/20', '4/21/20', '4/22/20', '4/23/20', '4/24/20', '4/25/20', '4/26/20', '4/27/20', '4/28/20', '4/29/20', '4/30/20', '5/01/20', '5/02/20', '5/03/20', '5/04/20', '5/05/20', '5/06/20', '5/07/20', '5/08/20', '5/09/20', '5/10/20', '5/11/20', '5/12/20', '5/13/20', '5/14/20', '5/15/20', '5/16/20', '5/17/20', '5/18/20', '5/19/20', '5/20/20', '5/21/20', '5/22/20', '5/23/20', '5/24/20', '5/25/20', '5/26/20', '5/27/20', '5/28/20', '5/29/20', '5/30/20', '5/31/20', '6/01/20', '6/02/20', '6/03/20', '6/04/20', '6/05/20', '6/06/20', '6/07/20', '6/08/20', '6/09/20', '6/10/20', '6/11/20', '6/12/20', '6/13/20', '6/14/20', '6/15/20', '6/16/20', '6/17/20', '6/18/20', '6/19/20', '6/20/20', '6/21/20', '6/22/20', '6/23/20', '6/24/20', '6/25/20', '6/26/20', '6/27/20', '6/28/20', '6/29/20', '6/30/20', '7/01/20', '7/02/20', '7/03/20', '7/04/20', '7/05/20', '7/06/20', '7/07/20', '7/08/20', '7/09/20', '7/10/20', '7/11/20', '7/12/20', '7/13/20', '7/14/20', '7/15/20', '7/16/20', '7/17/20', '7/18/20', '7/19/20', '7/20/20', '7/21/20', '7/22/20', '7/23/20', '7/24/20', '7/25/20', '7/26/20', '7/27/20', '7/28/20', '7/29/20', '7/30/20', '7/31/20', '8/01/20', '8/02/20', '8/03/20', '8/04/20', '8/05/20', '8/06/20', '8/07/20', '8/08/20', '8/09/20', '8/10/20', '8/11/20', '8/12/20', '8/13/20', '8/14/20', '8/15/20', '8/16/20', '8/17/20', '8/18/20', '8/19/20', '8/20/20', '8/21/20', '8/22/20', '8/23/20', '8/24/20', '8/25/20', '8/26/20', '8/27/20', '8/28/20', '8/29/20', '8/30/20', '8/31/20', '9/01/20', '9/02/20', '9/03/20', '9/04/20', '9/05/20', '9/06/20', '9/07/20', '9/08/20', '9/09/20', '9/10/20', '9/11/20', '9/12/20', '9/13/20', '9/14/20', '9/15/20', '9/16/20', '9/17/20', '9/18/20', '9/19/20', '9/20/20', '9/21/20', '9/22/20', '9/23/20', '9/24/20', '9/25/20', '9/26/20', '9/27/20', '9/28/20', '9/29/20', '9/30/20', '10/01/20', '10/02/20', '10/03/20', '10/04/20', '10/05/20', '10/06/20', '10/07/20', '10/08/20', '10/09/20', '10/10/20', '10/11/20', '10/12/20', '10/13/20', '10/14/20', '10/15/20', '10/16/20', '10/17/20', '10/18/20', '10/19/20', '10/20/20', '10/21/20', 'stat']\n"
     ]
    }
   ],
   "source": [
    "url = 'https://thevirustracker.com/free-api?countryTimeline=PL'\n",
    "response = requests.get(url)\n",
    "# for row in loads(response.text):\n",
    "#     print(row)\n",
    "daysDict = json.loads(response.text)['timelineitems'][0]\n",
    "days = []\n",
    "daysData = []\n",
    "\n",
    "for day in daysDict:\n",
    "    days.append(day)\n",
    "#show data from day\n",
    "for i in range(len(days)):\n",
    "    daysData.append(daysDict[days[i]])\n",
    "\n",
    "print(days)\n",
    "###################################\n",
    "\n",
    "newDailyCases = []\n",
    "for cases in daysData:\n",
    "    try:\n",
    "        newDailyCases.append(cases.get('new_daily_cases'))\n",
    "    except AttributeError:\n",
    "        # counters is not a dictionary, ignore and move on\n",
    "        pass\n",
    "\n"
   ]
  },
  {
   "cell_type": "markdown",
   "metadata": {},
   "source": [
    "### 3. Drawing visualization"
   ]
  },
  {
   "cell_type": "code",
   "execution_count": 86,
   "metadata": {},
   "outputs": [
    {
     "data": {
      "image/png": "[encoded data removed]",
      "text/plain": [
       "<Figure size 432x288 with 1 Axes>"
      ]
     },
     "metadata": {
      "needs_background": "light"
     },
     "output_type": "display_data"
    }
   ],
   "source": [
    "x = range(len(newDailyCases))\n",
    "y = newDailyCases\n",
    "\n",
    "\n",
    "plt.plot(x,y)\n",
    "plt.title(\"Przypadki Koronawirusa w Polsce\")\n",
    "plt.xlabel(\"Dni\")\n",
    "plt.ylabel(\"Przypadków\")\n",
    "plt.grid(True)\n",
    "plt.show()\n"
   ]
  }
 ],
 "metadata": {
  "kernelspec": {
   "display_name": "Python 3",
   "language": "python",
   "name": "python3"
  },
  "language_info": {
   "codemirror_mode": {
    "name": "ipython",
    "version": 3
   },
   "file_extension": ".py",
   "mimetype": "text/x-python",
   "name": "python",
   "nbconvert_exporter": "python",
   "pygments_lexer": "ipython3",
   "version": "3.8.3"
  }
 },
 "nbformat": 4,
 "nbformat_minor": 4
}
